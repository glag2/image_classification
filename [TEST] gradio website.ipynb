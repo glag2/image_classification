{
 "cells": [
  {
   "cell_type": "markdown",
   "metadata": {},
   "source": [
    "# NOT WORKING\n",
    "This is a snippet of code that i would like to implement in the future"
   ]
  },
  {
   "cell_type": "code",
   "execution_count": 11,
   "metadata": {},
   "outputs": [
    {
     "name": "stderr",
     "output_type": "stream",
     "text": [
      "C:\\Users\\AlessandroKuz\\AppData\\Local\\Temp\\ipykernel_26464\\3305894215.py:35: GradioDeprecationWarning: Usage of gradio.inputs is deprecated, and will not be supported in the future, please import your component from gradio.components\n",
      "  image = gr.inputs.Image(shape=(224, 224))\n",
      "C:\\Users\\AlessandroKuz\\AppData\\Local\\Temp\\ipykernel_26464\\3305894215.py:35: GradioDeprecationWarning: `optional` parameter is deprecated, and it has no effect\n",
      "  image = gr.inputs.Image(shape=(224, 224))\n",
      "C:\\Users\\AlessandroKuz\\AppData\\Local\\Temp\\ipykernel_26464\\3305894215.py:36: GradioUnusedKwargWarning: You have unused kwarg parameters in Number, please remove them: {'default': 0.9}\n",
      "  pippo = gr.Number(default=0.9, label=\"Pippo\")\n",
      "C:\\Users\\AlessandroKuz\\AppData\\Local\\Temp\\ipykernel_26464\\3305894215.py:37: GradioDeprecationWarning: Usage of gradio.outputs is deprecated, and will not be supported in the future, please import your components from gradio.components\n",
      "  label = gr.outputs.Label(num_top_classes=11)\n",
      "C:\\Users\\AlessandroKuz\\AppData\\Local\\Temp\\ipykernel_26464\\3305894215.py:37: GradioUnusedKwargWarning: You have unused kwarg parameters in Label, please remove them: {'type': 'auto'}\n",
      "  label = gr.outputs.Label(num_top_classes=11)\n",
      "C:\\Users\\AlessandroKuz\\AppData\\Local\\Temp\\ipykernel_26464\\3305894215.py:39: GradioDeprecationWarning: `capture_session` parameter is deprecated, and it has no effect\n",
      "  animal_classificator = gr.Interface(fn=classify_image,\n"
     ]
    },
    {
     "name": "stdout",
     "output_type": "stream",
     "text": [
      "Running on local URL:  http://127.0.0.1:7870\n",
      "\n",
      "To create a public link, set `share=True` in `launch()`.\n"
     ]
    },
    {
     "data": {
      "text/html": [
       "<div><iframe src=\"http://127.0.0.1:7870/\" width=\"100%\" height=\"500\" allow=\"autoplay; camera; microphone; clipboard-read; clipboard-write;\" frameborder=\"0\" allowfullscreen></iframe></div>"
      ],
      "text/plain": [
       "<IPython.core.display.HTML object>"
      ]
     },
     "metadata": {},
     "output_type": "display_data"
    }
   ],
   "source": [
    "import tensorflow as tf\n",
    "import gradio as gr\n",
    "from PIL import Image\n",
    "import numpy as np\n",
    "import os\n",
    "\n",
    "model_path = os.path.join(os.getcwd(), \"models\", \"resnet50-animals10.keras\")\n",
    "# model_path = os.path.join(os.getcwd(), \"models\", \"kuz2_model.03-1.04.h5\")\n",
    "model = tf.keras.models.load_model(model_path)\n",
    "\n",
    "labels = ['cane',\n",
    "          'cavallo',\n",
    "          'elefante',\n",
    "          'farfalla',\n",
    "          'gallina',\n",
    "          'gatto',\n",
    "          'mucca',\n",
    "          'pecora',\n",
    "          'ragno',\n",
    "          'scoiattolo',\n",
    "          'pippo']\n",
    "\n",
    "labels = [label.capitalize() for label in labels]\n",
    "\n",
    "def classify_image(image, pippo):\n",
    "    image = Image.fromarray(image.astype('uint8'), 'RGB')\n",
    "    image = image.resize((224, 224))\n",
    "    image = np.expand_dims(image, 0)\n",
    "    image = image / 255.\n",
    "    prediction = model.predict(image)[0]\n",
    "    prediction = np.append(prediction, pippo)\n",
    "    return {labels[i]: float(prediction[i]) for i in range(11)}\n",
    "\n",
    "\n",
    "image = gr.inputs.Image(shape=(224, 224))\n",
    "pippo = gr.Number(default=0.9, label=\"Pippo\")\n",
    "label = gr.outputs.Label(num_top_classes=11)\n",
    "\n",
    "animal_classificator = gr.Interface(fn=classify_image, \n",
    "                                    inputs=[image, pippo], \n",
    "                                    outputs=label, \n",
    "                                    capture_session=True, \n",
    "                                    live=True)\n",
    "\n",
    "if __name__ == \"__main__\":\n",
    "    animal_classificator.launch()\n"
   ]
  },
  {
   "cell_type": "code",
   "execution_count": 10,
   "metadata": {},
   "outputs": [
    {
     "name": "stdout",
     "output_type": "stream",
     "text": [
      "Running on local URL:  http://127.0.0.1:7869\n",
      "\n",
      "To create a public link, set `share=True` in `launch()`.\n"
     ]
    },
    {
     "data": {
      "text/html": [
       "<div><iframe src=\"http://127.0.0.1:7869/\" width=\"100%\" height=\"500\" allow=\"autoplay; camera; microphone; clipboard-read; clipboard-write;\" frameborder=\"0\" allowfullscreen></iframe></div>"
      ],
      "text/plain": [
       "<IPython.core.display.HTML object>"
      ]
     },
     "metadata": {},
     "output_type": "display_data"
    },
    {
     "data": {
      "text/plain": []
     },
     "execution_count": 10,
     "metadata": {},
     "output_type": "execute_result"
    },
    {
     "name": "stdout",
     "output_type": "stream",
     "text": [
      "1/1 [==============================] - 2s 2s/step\n"
     ]
    }
   ],
   "source": [
    "import gradio as gr\n",
    "\n",
    "def greet(name):\n",
    "    return \"Hello \" + name + \"!\"\n",
    "\n",
    "with gr.Blocks() as demo:\n",
    "    name = gr.Textbox(label=\"Name\")\n",
    "    output = gr.Textbox(label=\"Output Box\")\n",
    "    greet_btn = gr.Button(\"Greet\")\n",
    "    greet_btn.click(fn=greet, inputs=name, outputs=output, api_name=\"greet\")\n",
    "\n",
    "demo.launch()\n"
   ]
  }
 ],
 "metadata": {
  "kernelspec": {
   "display_name": "gradioApp",
   "language": "python",
   "name": "python3"
  },
  "language_info": {
   "codemirror_mode": {
    "name": "ipython",
    "version": 3
   },
   "file_extension": ".py",
   "mimetype": "text/x-python",
   "name": "python",
   "nbconvert_exporter": "python",
   "pygments_lexer": "ipython3",
   "version": "3.10.8"
  }
 },
 "nbformat": 4,
 "nbformat_minor": 2
}
