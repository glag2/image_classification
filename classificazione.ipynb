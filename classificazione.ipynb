{
 "cells": [
  {
   "cell_type": "markdown",
   "metadata": {},
   "source": [
    "# Classificazione immagini"
   ]
  },
  {
   "cell_type": "code",
   "execution_count": 6,
   "metadata": {},
   "outputs": [],
   "source": [
    "import numpy as np\n",
    "import albumentations as A\n",
    "from PIL import Image\n",
    "import os\n",
    "\n",
    "import matplotlib.pyplot as plt\n",
    "\n",
    "import torch\n",
    "import keras"
   ]
  },
  {
   "cell_type": "markdown",
   "metadata": {},
   "source": [
    "## Dataset"
   ]
  },
  {
   "cell_type": "markdown",
   "metadata": {},
   "source": [
    "prima di tutto definiamo in automatico le classi tramite il nome delle cartelle"
   ]
  },
  {
   "cell_type": "code",
   "execution_count": 12,
   "metadata": {},
   "outputs": [
    {
     "name": "stdout",
     "output_type": "stream",
     "text": [
      "le classi sono:  ['biscotti', 'caffè', 'modella', 'pizza']\n",
      "numero di classi:  4\n"
     ]
    }
   ],
   "source": [
    "cartella_data = \"data\"\n",
    "batch_size = 16\n",
    "augmentation = True\n",
    "\n",
    "# salvo il nome delle classi in una lista\n",
    "class_names = os.listdir(cartella_data)\n",
    "class_names.sort() # ordino la lista in ordine alfabetico\n",
    "\n",
    "print(\"le classi sono: \", class_names)\n",
    "print(\"numero di classi: \", len(class_names))"
   ]
  },
  {
   "cell_type": "markdown",
   "metadata": {},
   "source": [
    "ora visualizziamo lo sbilanciamento delle classi"
   ]
  },
  {
   "cell_type": "code",
   "execution_count": 13,
   "metadata": {},
   "outputs": [
    {
     "name": "stdout",
     "output_type": "stream",
     "text": [
      "classe:  biscotti \n",
      "numero di immagini:  10 \n",
      "percentuale:  0.159 \n",
      "______________________\n",
      "classe:  caffè \n",
      "numero di immagini:  25 \n",
      "percentuale:  0.397 \n",
      "______________________\n",
      "classe:  modella \n",
      "numero di immagini:  15 \n",
      "percentuale:  0.238 \n",
      "______________________\n",
      "classe:  pizza \n",
      "numero di immagini:  13 \n",
      "percentuale:  0.206 \n",
      "______________________\n"
     ]
    }
   ],
   "source": [
    "# creo un dizionario con le classi e il numero di immagini per classe\n",
    "classi = {}\n",
    "for classe in class_names:\n",
    "    classi[classe] = len(os.listdir(os.path.join(cartella_data, classe)))\n",
    "\n",
    "# stampo il numero di immagini per classe, e la relativa percentuale\n",
    "for classe in class_names:\n",
    "    print(\"classe: \", classe, \"\\nnumero di immagini: \", classi[classe], \"\\npercentuale: \", round(classi[classe]/sum(classi.values()), 3), \"\\n______________________\")"
   ]
  },
  {
   "cell_type": "markdown",
   "metadata": {},
   "source": [
    "costruiamo un generatore di batch"
   ]
  },
  {
   "cell_type": "code",
   "execution_count": null,
   "metadata": {},
   "outputs": [],
   "source": [
    "def generatore_batch_classification(cartella = \"data\", batch_size = 16, augmentation = True):\n",
    "    '''\n",
    "    Generatore che restituisce un batch di immagini e le rispettive label\n",
    "\n",
    "    Parametri\n",
    "    ----------\n",
    "    cartella_data : string\n",
    "        path della cartella contenente le immagini\n",
    "    batch_size : int\n",
    "        dimensione del batch di immagini che vogliamo ottenere\n",
    "    augmentation : bool\n",
    "        se True, applica data augmentation alle immagini\n",
    "    \n",
    "    Yields\n",
    "    ------\n",
    "    camera_batch : numpy array\n",
    "        batch di immagini della camera\n",
    "    classi_batch : numpy array\n",
    "        batch di classi corrispondenti alle immagini\n",
    "    '''\n",
    "    buffer = batch_size\n",
    "    dimensione_output = (256,256)\n",
    "\n",
    "    for i in range(0, len(class_names), buffer):\n",
    "        \n",
    "        #gestisco il caso in cui l'ultimo batch non sia completo\n",
    "        if i + buffer > len(class_names):\n",
    "            i = len(class_names) - buffer\n",
    "\n",
    "        camera_batch = []\n",
    "        classi_batch = []\n",
    "        for j in range(i, i + buffer):\n",
    "            with Image.open(os.path.join(cartella_data, class_names[j])) as camera:\n",
    "                camera = np.array(camera)\n",
    "                # Data augmentation, agendo solo sul colore, contrasto, luminosità saturazione\n",
    "                if augmentation:\n",
    "                    transform = A.Compose([\n",
    "                        A.RandomBrightnessContrast(brightness_limit=0.3, contrast_limit=0.2, p=0.5),\n",
    "                        A.RandomGamma(gamma_limit=(80, 120), p=0.5),\n",
    "                        A.HueSaturationValue(hue_shift_limit=10, sat_shift_limit=10, val_shift_limit=10, p=0.5),\n",
    "                        A.HorizontalFlip(p=0.5),\n",
    "                        A.VerticalFlip(p=0.5),\n",
    "                        A.RandomRotate90(p=0.5),\n",
    "                        A.Transpose(p=0.5),\n",
    "                        A.ShiftScaleRotate(shift_limit=0.2, scale_limit=0.2, rotate_limit=20, p=0.5),\n",
    "                        A.RandomCrop(height=256, width=256, p=0.5),\n",
    "                        A.Resize(height=256, width=256, p=1),\n",
    "                        A.Normalize(p=1.0),\n",
    "                        ])\n",
    "                    camera = transform(image=camera)['image']\n",
    "                else:\n",
    "                    transform = A.Compose([\n",
    "                        A.Resize(height=256, width=256, p=1),\n",
    "                        A.Normalize(p=1.0),\n",
    "                        ])\n",
    "                    camera = transform(image=camera)['image']\n",
    "\n",
    "            camera_batch.append(camera)\n",
    "            classi_batch.append(class_names[j])\n",
    "        yield np.array(camera_batch), np.array(classi_batch)\n",
    "\n",
    "# test\n",
    "for camera_batch, classi_batch in generatore_batch_classification(cartella = \"data\", batch_size = 16, augmentation = True):\n",
    "    print(\"dimensione del batch: \", camera_batch.shape)\n",
    "    print(\"dimensione del batch: \", classi_batch.shape)\n",
    "    break"
   ]
  },
  {
   "cell_type": "code",
   "execution_count": 11,
   "metadata": {},
   "outputs": [
    {
     "ename": "IndexError",
     "evalue": "list index out of range",
     "output_type": "error",
     "traceback": [
      "\u001b[1;31m---------------------------------------------------------------------------\u001b[0m",
      "\u001b[1;31mIndexError\u001b[0m                                Traceback (most recent call last)",
      "\u001b[1;32mc:\\Users\\gabri\\Desktop\\Gabriele\\python\\classificazione_immagini\\classificazione.ipynb Cella 10\u001b[0m line \u001b[0;36m6\n\u001b[0;32m      <a href='vscode-notebook-cell:/c%3A/Users/gabri/Desktop/Gabriele/python/classificazione_immagini/classificazione.ipynb#X12sZmlsZQ%3D%3D?line=2'>3</a>\u001b[0m batch_size \u001b[39m=\u001b[39m \u001b[39m16\u001b[39m\n\u001b[0;32m      <a href='vscode-notebook-cell:/c%3A/Users/gabri/Desktop/Gabriele/python/classificazione_immagini/classificazione.ipynb#X12sZmlsZQ%3D%3D?line=3'>4</a>\u001b[0m augmentation \u001b[39m=\u001b[39m \u001b[39mTrue\u001b[39;00m\n\u001b[1;32m----> <a href='vscode-notebook-cell:/c%3A/Users/gabri/Desktop/Gabriele/python/classificazione_immagini/classificazione.ipynb#X12sZmlsZQ%3D%3D?line=5'>6</a>\u001b[0m \u001b[39mfor\u001b[39;00m camera_batch, classi_batch \u001b[39min\u001b[39;00m generatore_batch_classification(cartella_data, batch_size, augmentation):\n\u001b[0;32m      <a href='vscode-notebook-cell:/c%3A/Users/gabri/Desktop/Gabriele/python/classificazione_immagini/classificazione.ipynb#X12sZmlsZQ%3D%3D?line=6'>7</a>\u001b[0m     \u001b[39mprint\u001b[39m(camera_batch\u001b[39m.\u001b[39mshape)\n\u001b[0;32m      <a href='vscode-notebook-cell:/c%3A/Users/gabri/Desktop/Gabriele/python/classificazione_immagini/classificazione.ipynb#X12sZmlsZQ%3D%3D?line=7'>8</a>\u001b[0m     \u001b[39mprint\u001b[39m(classi_batch\u001b[39m.\u001b[39mshape)\n",
      "\u001b[1;32mc:\\Users\\gabri\\Desktop\\Gabriele\\python\\classificazione_immagini\\classificazione.ipynb Cella 10\u001b[0m line \u001b[0;36m1\n\u001b[0;32m    <a href='vscode-notebook-cell:/c%3A/Users/gabri/Desktop/Gabriele/python/classificazione_immagini/classificazione.ipynb#X12sZmlsZQ%3D%3D?line=127'>128</a>\u001b[0m classi_batch \u001b[39m=\u001b[39m []\n\u001b[0;32m    <a href='vscode-notebook-cell:/c%3A/Users/gabri/Desktop/Gabriele/python/classificazione_immagini/classificazione.ipynb#X12sZmlsZQ%3D%3D?line=128'>129</a>\u001b[0m \u001b[39mfor\u001b[39;00m j \u001b[39min\u001b[39;00m \u001b[39mrange\u001b[39m(i, i \u001b[39m+\u001b[39m buffer):\n\u001b[1;32m--> <a href='vscode-notebook-cell:/c%3A/Users/gabri/Desktop/Gabriele/python/classificazione_immagini/classificazione.ipynb#X12sZmlsZQ%3D%3D?line=129'>130</a>\u001b[0m     \u001b[39mwith\u001b[39;00m Image\u001b[39m.\u001b[39mopen(os\u001b[39m.\u001b[39mpath\u001b[39m.\u001b[39mjoin(cartella_data, class_names[j])) \u001b[39mas\u001b[39;00m camera:\n\u001b[0;32m    <a href='vscode-notebook-cell:/c%3A/Users/gabri/Desktop/Gabriele/python/classificazione_immagini/classificazione.ipynb#X12sZmlsZQ%3D%3D?line=130'>131</a>\u001b[0m         camera \u001b[39m=\u001b[39m np\u001b[39m.\u001b[39marray(camera)\n\u001b[0;32m    <a href='vscode-notebook-cell:/c%3A/Users/gabri/Desktop/Gabriele/python/classificazione_immagini/classificazione.ipynb#X12sZmlsZQ%3D%3D?line=131'>132</a>\u001b[0m         \u001b[39m# Data augmentation, agendo solo sul colore, contrasto, luminosità saturazione\u001b[39;00m\n",
      "\u001b[1;31mIndexError\u001b[0m: list index out of range"
     ]
    }
   ],
   "source": [
    "# test del generatore\n",
    "\n",
    "for camera_batch, classi_batch in generatore_batch_classification(cartella_data, batch_size, augmentation):\n",
    "    print(camera_batch.shape)\n",
    "    print(classi_batch.shape)\n",
    "    break\n"
   ]
  }
 ],
 "metadata": {
  "kernelspec": {
   "display_name": "Python 3",
   "language": "python",
   "name": "python3"
  },
  "language_info": {
   "codemirror_mode": {
    "name": "ipython",
    "version": 3
   },
   "file_extension": ".py",
   "mimetype": "text/x-python",
   "name": "python",
   "nbconvert_exporter": "python",
   "pygments_lexer": "ipython3",
   "version": "3.11.0"
  }
 },
 "nbformat": 4,
 "nbformat_minor": 2
}
